{
 "cells": [
  {
   "cell_type": "markdown",
   "metadata": {},
   "source": [
    "# Beijing Air Quality Forecasting"
   ]
  },
  {
   "cell_type": "markdown",
   "metadata": {},
   "source": [
    "# Load and Preprocess Data\n",
    "This section is responsible for loading the air quality dataset and preprocessing it for model training. It includes functions to load data, handle missing values, and prepare features and targets for training."
   ]
  },
  {
   "cell_type": "code",
   "execution_count": 14,
   "metadata": {},
   "outputs": [],
   "source": [
    "# Import necessary libraries\n",
    "import pandas as pd\n",
    "import numpy as np\n",
    "import tensorflow as tf\n",
    "import matplotlib.pyplot as plt\n",
    "import os\n",
    "from tensorflow.keras.models import Sequential\n",
    "from tensorflow.keras.layers import LSTM, Dense, Dropout\n",
    "from tensorflow.keras.optimizers import Adam\n",
    "from sklearn.preprocessing import StandardScaler\n",
    "from sklearn.metrics import mean_squared_error\n",
    "\n",
    "# Create submissions directory\n",
    "os.makedirs('submissions', exist_ok=True)\n",
    "\n",
    "# Load data\n",
    "train = pd.read_csv('train.csv')\n",
    "test = pd.read_csv('test.csv')\n",
    "\n",
    "# Preprocessing function\n",
    "def preprocess_data(df):\n",
    "    df['datetime'] = pd.to_datetime(df['datetime'])\n",
    "    df.set_index('datetime', inplace=True)\n",
    "    df['hour'] = df.index.hour\n",
    "    df['dayofweek'] = df.index.dayofweek\n",
    "    df['month'] = df.index.month\n",
    "    return df\n",
    "\n",
    "# Process both datasets\n",
    "train = preprocess_data(train)\n",
    "test = preprocess_data(test)\n",
    "\n",
    "# Handle missing values\n",
    "train.fillna(train.mean(numeric_only=True), inplace=True)\n",
    "test.fillna(test.mean(numeric_only=True), inplace=True)\n",
    "\n",
    "# Prepare features and target\n",
    "features = [col for col in train.columns if col not in ['pm2.5', 'No']]\n",
    "target = 'pm2.5'\n",
    "\n",
    "# Scale features\n",
    "scaler = StandardScaler()\n",
    "X_train = scaler.fit_transform(train[features])\n",
    "X_test = scaler.transform(test[features])\n",
    "y_train = train[target].values\n",
    "\n",
    "# Sequence generator\n",
    "def create_sequences(data, targets, seq_length):\n",
    "    X, y = [], []\n",
    "    for i in range(seq_length, len(data)):\n",
    "        X.append(data[i-seq_length:i])\n",
    "        y.append(targets[i])\n",
    "    return np.array(X), np.array(y)"
   ]
  },
  {
   "cell_type": "markdown",
   "metadata": {},
   "source": [
    "# Experiment configurations"
   ]
  },
  {
   "cell_type": "code",
   "execution_count": 15,
   "metadata": {},
   "outputs": [],
   "source": [
    "# Experiment configuration\n",
    "\n",
    "experiments = [\n",
    "    # Experiment 1-20 configurations\n",
    "    {'exp_num': 1, 'units': 32, 'dropout': 0.2, 'batch_size': 32, 'lr': 0.001, 'epochs': 30, 'seq_len': 24},\n",
    "    {'exp_num': 2, 'units': 64, 'dropout': 0.2, 'batch_size': 32, 'lr': 0.001, 'epochs': 30, 'seq_len': 24},\n",
    "    {'exp_num': 3, 'units': 128, 'dropout': 0.3, 'batch_size': 32, 'lr': 0.001, 'epochs': 30, 'seq_len': 24},\n",
    "    {'exp_num': 4, 'units': 32, 'dropout': 0.4, 'batch_size': 64, 'lr': 0.001, 'epochs': 30, 'seq_len': 24},\n",
    "    {'exp_num': 5, 'units': 64, 'dropout': 0.4, 'batch_size': 64, 'lr': 0.001, 'epochs': 30, 'seq_len': 24},\n",
    "    {'exp_num': 6, 'units': 128, 'dropout': 0.5, 'batch_size': 64, 'lr': 0.001, 'epochs': 30, 'seq_len': 24},\n",
    "    {'exp_num': 7, 'units': 32, 'dropout': 0.2, 'batch_size': 32, 'lr': 0.01, 'epochs': 30, 'seq_len': 48},\n",
    "    {'exp_num': 8, 'units': 64, 'dropout': 0.2, 'batch_size': 32, 'lr': 0.01, 'epochs': 30, 'seq_len': 48},\n",
    "    {'exp_num': 9, 'units': 128, 'dropout': 0.3, 'batch_size': 32, 'lr': 0.01, 'epochs': 30, 'seq_len': 48},\n",
    "    {'exp_num': 10, 'units': 32, 'dropout': 0.4, 'batch_size': 64, 'lr': 0.01, 'epochs': 35, 'seq_len': 48},\n",
    "    {'exp_num': 11, 'units': 64, 'dropout': 0.4, 'batch_size': 64, 'lr': 0.01, 'epochs': 35, 'seq_len': 48},\n",
    "    {'exp_num': 12, 'units': 128, 'dropout': 0.5, 'batch_size': 64, 'lr': 0.01, 'epochs': 35, 'seq_len': 48},\n",
    "    {'exp_num': 13, 'units': 32, 'dropout': 0.2, 'batch_size': 128, 'lr': 0.001, 'epochs': 35, 'seq_len': 72},\n",
    "    {'exp_num': 14, 'units': 64, 'dropout': 0.2, 'batch_size': 128, 'lr': 0.001, 'epochs': 35, 'seq_len': 72},\n",
    "    {'exp_num': 15, 'units': 128, 'dropout': 0.3, 'batch_size': 128, 'lr': 0.001, 'epochs': 35, 'seq_len': 72},\n",
    "    {'exp_num': 16, 'units': 32, 'dropout': 0.4, 'batch_size': 128, 'lr': 0.01, 'epochs': 40, 'seq_len': 72},\n",
    "    {'exp_num': 17, 'units': 64, 'dropout': 0.4, 'batch_size': 128, 'lr': 0.01, 'epochs': 40, 'seq_len': 72},\n",
    "    {'exp_num': 18, 'units': 128, 'dropout': 0.5, 'batch_size': 128, 'lr': 0.01, 'epochs': 40, 'seq_len': 72},\n",
    "    {'exp_num': 19, 'units': 64, 'dropout': 0.3, 'batch_size': 64, 'lr': 0.005, 'epochs': 50, 'seq_len': 24},\n",
    "    {'exp_num': 20, 'units': 128, 'dropout': 0.3, 'batch_size': 64, 'lr': 0.005, 'epochs': 50, 'seq_len': 48}\n",
    "]"
   ]
  },
  {
   "cell_type": "markdown",
   "metadata": {},
   "source": [
    "# Track Experiments and Results\n",
    "This section manages the execution of multiple experiments with different model configurations. It stores results, including RMSE and model parameters, for comparison and analysis."
   ]
  },
  {
   "cell_type": "code",
   "execution_count": 16,
   "metadata": {},
   "outputs": [
    {
     "name": "stdout",
     "output_type": "stream",
     "text": [
      "\n",
      "Running Experiment 1\n"
     ]
    },
    {
     "name": "stderr",
     "output_type": "stream",
     "text": [
      "C:\\Users\\MaximeGuy\\AppData\\Roaming\\Python\\Python312\\site-packages\\keras\\src\\layers\\rnn\\rnn.py:200: UserWarning: Do not pass an `input_shape`/`input_dim` argument to a layer. When using Sequential models, prefer using an `Input(shape)` object as the first layer in the model instead.\n",
      "  super().__init__(**kwargs)\n"
     ]
    },
    {
     "name": "stdout",
     "output_type": "stream",
     "text": [
      "\u001b[1m192/192\u001b[0m \u001b[32m━━━━━━━━━━━━━━━━━━━━\u001b[0m\u001b[37m\u001b[0m \u001b[1m1s\u001b[0m 4ms/step\n",
      "\u001b[1m411/411\u001b[0m \u001b[32m━━━━━━━━━━━━━━━━━━━━\u001b[0m\u001b[37m\u001b[0m \u001b[1m1s\u001b[0m 3ms/step\n",
      "Saved submission to submissions/exp_1_submission.csv\n",
      "\n",
      "Running Experiment 2\n"
     ]
    },
    {
     "name": "stderr",
     "output_type": "stream",
     "text": [
      "C:\\Users\\MaximeGuy\\AppData\\Roaming\\Python\\Python312\\site-packages\\keras\\src\\layers\\rnn\\rnn.py:200: UserWarning: Do not pass an `input_shape`/`input_dim` argument to a layer. When using Sequential models, prefer using an `Input(shape)` object as the first layer in the model instead.\n",
      "  super().__init__(**kwargs)\n"
     ]
    },
    {
     "name": "stdout",
     "output_type": "stream",
     "text": [
      "\u001b[1m192/192\u001b[0m \u001b[32m━━━━━━━━━━━━━━━━━━━━\u001b[0m\u001b[37m\u001b[0m \u001b[1m1s\u001b[0m 5ms/step\n",
      "\u001b[1m411/411\u001b[0m \u001b[32m━━━━━━━━━━━━━━━━━━━━\u001b[0m\u001b[37m\u001b[0m \u001b[1m2s\u001b[0m 4ms/step\n",
      "Saved submission to submissions/exp_2_submission.csv\n",
      "\n",
      "Running Experiment 3\n"
     ]
    },
    {
     "name": "stderr",
     "output_type": "stream",
     "text": [
      "C:\\Users\\MaximeGuy\\AppData\\Roaming\\Python\\Python312\\site-packages\\keras\\src\\layers\\rnn\\rnn.py:200: UserWarning: Do not pass an `input_shape`/`input_dim` argument to a layer. When using Sequential models, prefer using an `Input(shape)` object as the first layer in the model instead.\n",
      "  super().__init__(**kwargs)\n"
     ]
    },
    {
     "name": "stdout",
     "output_type": "stream",
     "text": [
      "\u001b[1m192/192\u001b[0m \u001b[32m━━━━━━━━━━━━━━━━━━━━\u001b[0m\u001b[37m\u001b[0m \u001b[1m2s\u001b[0m 8ms/step\n",
      "\u001b[1m411/411\u001b[0m \u001b[32m━━━━━━━━━━━━━━━━━━━━\u001b[0m\u001b[37m\u001b[0m \u001b[1m3s\u001b[0m 7ms/step\n",
      "Saved submission to submissions/exp_3_submission.csv\n",
      "\n",
      "Running Experiment 4\n"
     ]
    },
    {
     "name": "stderr",
     "output_type": "stream",
     "text": [
      "C:\\Users\\MaximeGuy\\AppData\\Roaming\\Python\\Python312\\site-packages\\keras\\src\\layers\\rnn\\rnn.py:200: UserWarning: Do not pass an `input_shape`/`input_dim` argument to a layer. When using Sequential models, prefer using an `Input(shape)` object as the first layer in the model instead.\n",
      "  super().__init__(**kwargs)\n"
     ]
    },
    {
     "name": "stdout",
     "output_type": "stream",
     "text": [
      "\u001b[1m192/192\u001b[0m \u001b[32m━━━━━━━━━━━━━━━━━━━━\u001b[0m\u001b[37m\u001b[0m \u001b[1m1s\u001b[0m 4ms/step\n",
      "\u001b[1m411/411\u001b[0m \u001b[32m━━━━━━━━━━━━━━━━━━━━\u001b[0m\u001b[37m\u001b[0m \u001b[1m1s\u001b[0m 3ms/step\n",
      "Saved submission to submissions/exp_4_submission.csv\n",
      "\n",
      "Running Experiment 5\n"
     ]
    },
    {
     "name": "stderr",
     "output_type": "stream",
     "text": [
      "C:\\Users\\MaximeGuy\\AppData\\Roaming\\Python\\Python312\\site-packages\\keras\\src\\layers\\rnn\\rnn.py:200: UserWarning: Do not pass an `input_shape`/`input_dim` argument to a layer. When using Sequential models, prefer using an `Input(shape)` object as the first layer in the model instead.\n",
      "  super().__init__(**kwargs)\n"
     ]
    },
    {
     "name": "stdout",
     "output_type": "stream",
     "text": [
      "\u001b[1m192/192\u001b[0m \u001b[32m━━━━━━━━━━━━━━━━━━━━\u001b[0m\u001b[37m\u001b[0m \u001b[1m1s\u001b[0m 5ms/step\n",
      "\u001b[1m411/411\u001b[0m \u001b[32m━━━━━━━━━━━━━━━━━━━━\u001b[0m\u001b[37m\u001b[0m \u001b[1m2s\u001b[0m 4ms/step\n",
      "Saved submission to submissions/exp_5_submission.csv\n",
      "\n",
      "Running Experiment 6\n"
     ]
    },
    {
     "name": "stderr",
     "output_type": "stream",
     "text": [
      "C:\\Users\\MaximeGuy\\AppData\\Roaming\\Python\\Python312\\site-packages\\keras\\src\\layers\\rnn\\rnn.py:200: UserWarning: Do not pass an `input_shape`/`input_dim` argument to a layer. When using Sequential models, prefer using an `Input(shape)` object as the first layer in the model instead.\n",
      "  super().__init__(**kwargs)\n"
     ]
    },
    {
     "name": "stdout",
     "output_type": "stream",
     "text": [
      "\u001b[1m192/192\u001b[0m \u001b[32m━━━━━━━━━━━━━━━━━━━━\u001b[0m\u001b[37m\u001b[0m \u001b[1m2s\u001b[0m 8ms/step\n",
      "\u001b[1m411/411\u001b[0m \u001b[32m━━━━━━━━━━━━━━━━━━━━\u001b[0m\u001b[37m\u001b[0m \u001b[1m3s\u001b[0m 8ms/step\n",
      "Saved submission to submissions/exp_6_submission.csv\n",
      "\n",
      "Running Experiment 7\n"
     ]
    },
    {
     "name": "stderr",
     "output_type": "stream",
     "text": [
      "C:\\Users\\MaximeGuy\\AppData\\Roaming\\Python\\Python312\\site-packages\\keras\\src\\layers\\rnn\\rnn.py:200: UserWarning: Do not pass an `input_shape`/`input_dim` argument to a layer. When using Sequential models, prefer using an `Input(shape)` object as the first layer in the model instead.\n",
      "  super().__init__(**kwargs)\n"
     ]
    },
    {
     "name": "stdout",
     "output_type": "stream",
     "text": [
      "\u001b[1m192/192\u001b[0m \u001b[32m━━━━━━━━━━━━━━━━━━━━\u001b[0m\u001b[37m\u001b[0m \u001b[1m1s\u001b[0m 5ms/step\n",
      "\u001b[1m411/411\u001b[0m \u001b[32m━━━━━━━━━━━━━━━━━━━━\u001b[0m\u001b[37m\u001b[0m \u001b[1m2s\u001b[0m 4ms/step\n",
      "Saved submission to submissions/exp_7_submission.csv\n",
      "\n",
      "Running Experiment 8\n"
     ]
    },
    {
     "name": "stderr",
     "output_type": "stream",
     "text": [
      "C:\\Users\\MaximeGuy\\AppData\\Roaming\\Python\\Python312\\site-packages\\keras\\src\\layers\\rnn\\rnn.py:200: UserWarning: Do not pass an `input_shape`/`input_dim` argument to a layer. When using Sequential models, prefer using an `Input(shape)` object as the first layer in the model instead.\n",
      "  super().__init__(**kwargs)\n"
     ]
    },
    {
     "name": "stdout",
     "output_type": "stream",
     "text": [
      "\u001b[1m192/192\u001b[0m \u001b[32m━━━━━━━━━━━━━━━━━━━━\u001b[0m\u001b[37m\u001b[0m \u001b[1m2s\u001b[0m 9ms/step\n",
      "\u001b[1m411/411\u001b[0m \u001b[32m━━━━━━━━━━━━━━━━━━━━\u001b[0m\u001b[37m\u001b[0m \u001b[1m3s\u001b[0m 7ms/step\n",
      "Saved submission to submissions/exp_8_submission.csv\n",
      "\n",
      "Running Experiment 9\n"
     ]
    },
    {
     "name": "stderr",
     "output_type": "stream",
     "text": [
      "C:\\Users\\MaximeGuy\\AppData\\Roaming\\Python\\Python312\\site-packages\\keras\\src\\layers\\rnn\\rnn.py:200: UserWarning: Do not pass an `input_shape`/`input_dim` argument to a layer. When using Sequential models, prefer using an `Input(shape)` object as the first layer in the model instead.\n",
      "  super().__init__(**kwargs)\n"
     ]
    },
    {
     "name": "stdout",
     "output_type": "stream",
     "text": [
      "\u001b[1m192/192\u001b[0m \u001b[32m━━━━━━━━━━━━━━━━━━━━\u001b[0m\u001b[37m\u001b[0m \u001b[1m3s\u001b[0m 14ms/step\n",
      "\u001b[1m411/411\u001b[0m \u001b[32m━━━━━━━━━━━━━━━━━━━━\u001b[0m\u001b[37m\u001b[0m \u001b[1m6s\u001b[0m 14ms/step\n",
      "Saved submission to submissions/exp_9_submission.csv\n",
      "\n",
      "Running Experiment 10\n"
     ]
    },
    {
     "name": "stderr",
     "output_type": "stream",
     "text": [
      "C:\\Users\\MaximeGuy\\AppData\\Roaming\\Python\\Python312\\site-packages\\keras\\src\\layers\\rnn\\rnn.py:200: UserWarning: Do not pass an `input_shape`/`input_dim` argument to a layer. When using Sequential models, prefer using an `Input(shape)` object as the first layer in the model instead.\n",
      "  super().__init__(**kwargs)\n"
     ]
    },
    {
     "name": "stdout",
     "output_type": "stream",
     "text": [
      "\u001b[1m192/192\u001b[0m \u001b[32m━━━━━━━━━━━━━━━━━━━━\u001b[0m\u001b[37m\u001b[0m \u001b[1m1s\u001b[0m 6ms/step\n",
      "\u001b[1m411/411\u001b[0m \u001b[32m━━━━━━━━━━━━━━━━━━━━\u001b[0m\u001b[37m\u001b[0m \u001b[1m2s\u001b[0m 4ms/step\n",
      "Saved submission to submissions/exp_10_submission.csv\n",
      "\n",
      "Running Experiment 11\n"
     ]
    },
    {
     "name": "stderr",
     "output_type": "stream",
     "text": [
      "C:\\Users\\MaximeGuy\\AppData\\Roaming\\Python\\Python312\\site-packages\\keras\\src\\layers\\rnn\\rnn.py:200: UserWarning: Do not pass an `input_shape`/`input_dim` argument to a layer. When using Sequential models, prefer using an `Input(shape)` object as the first layer in the model instead.\n",
      "  super().__init__(**kwargs)\n"
     ]
    },
    {
     "name": "stdout",
     "output_type": "stream",
     "text": [
      "\u001b[1m192/192\u001b[0m \u001b[32m━━━━━━━━━━━━━━━━━━━━\u001b[0m\u001b[37m\u001b[0m \u001b[1m2s\u001b[0m 7ms/step\n",
      "\u001b[1m411/411\u001b[0m \u001b[32m━━━━━━━━━━━━━━━━━━━━\u001b[0m\u001b[37m\u001b[0m \u001b[1m3s\u001b[0m 8ms/step\n",
      "Saved submission to submissions/exp_11_submission.csv\n",
      "\n",
      "Running Experiment 12\n"
     ]
    },
    {
     "name": "stderr",
     "output_type": "stream",
     "text": [
      "C:\\Users\\MaximeGuy\\AppData\\Roaming\\Python\\Python312\\site-packages\\keras\\src\\layers\\rnn\\rnn.py:200: UserWarning: Do not pass an `input_shape`/`input_dim` argument to a layer. When using Sequential models, prefer using an `Input(shape)` object as the first layer in the model instead.\n",
      "  super().__init__(**kwargs)\n"
     ]
    },
    {
     "name": "stdout",
     "output_type": "stream",
     "text": [
      "\u001b[1m192/192\u001b[0m \u001b[32m━━━━━━━━━━━━━━━━━━━━\u001b[0m\u001b[37m\u001b[0m \u001b[1m3s\u001b[0m 16ms/step\n",
      "\u001b[1m411/411\u001b[0m \u001b[32m━━━━━━━━━━━━━━━━━━━━\u001b[0m\u001b[37m\u001b[0m \u001b[1m6s\u001b[0m 15ms/step\n",
      "Saved submission to submissions/exp_12_submission.csv\n",
      "\n",
      "Running Experiment 13\n"
     ]
    },
    {
     "name": "stderr",
     "output_type": "stream",
     "text": [
      "C:\\Users\\MaximeGuy\\AppData\\Roaming\\Python\\Python312\\site-packages\\keras\\src\\layers\\rnn\\rnn.py:200: UserWarning: Do not pass an `input_shape`/`input_dim` argument to a layer. When using Sequential models, prefer using an `Input(shape)` object as the first layer in the model instead.\n",
      "  super().__init__(**kwargs)\n"
     ]
    },
    {
     "name": "stdout",
     "output_type": "stream",
     "text": [
      "\u001b[1m192/192\u001b[0m \u001b[32m━━━━━━━━━━━━━━━━━━━━\u001b[0m\u001b[37m\u001b[0m \u001b[1m2s\u001b[0m 8ms/step\n",
      "\u001b[1m411/411\u001b[0m \u001b[32m━━━━━━━━━━━━━━━━━━━━\u001b[0m\u001b[37m\u001b[0m \u001b[1m3s\u001b[0m 6ms/step\n",
      "Saved submission to submissions/exp_13_submission.csv\n",
      "\n",
      "Running Experiment 14\n"
     ]
    },
    {
     "name": "stderr",
     "output_type": "stream",
     "text": [
      "C:\\Users\\MaximeGuy\\AppData\\Roaming\\Python\\Python312\\site-packages\\keras\\src\\layers\\rnn\\rnn.py:200: UserWarning: Do not pass an `input_shape`/`input_dim` argument to a layer. When using Sequential models, prefer using an `Input(shape)` object as the first layer in the model instead.\n",
      "  super().__init__(**kwargs)\n"
     ]
    },
    {
     "name": "stdout",
     "output_type": "stream",
     "text": [
      "\u001b[1m192/192\u001b[0m \u001b[32m━━━━━━━━━━━━━━━━━━━━\u001b[0m\u001b[37m\u001b[0m \u001b[1m2s\u001b[0m 10ms/step\n",
      "\u001b[1m411/411\u001b[0m \u001b[32m━━━━━━━━━━━━━━━━━━━━\u001b[0m\u001b[37m\u001b[0m \u001b[1m4s\u001b[0m 9ms/step\n",
      "Saved submission to submissions/exp_14_submission.csv\n",
      "\n",
      "Running Experiment 15\n"
     ]
    },
    {
     "name": "stderr",
     "output_type": "stream",
     "text": [
      "C:\\Users\\MaximeGuy\\AppData\\Roaming\\Python\\Python312\\site-packages\\keras\\src\\layers\\rnn\\rnn.py:200: UserWarning: Do not pass an `input_shape`/`input_dim` argument to a layer. When using Sequential models, prefer using an `Input(shape)` object as the first layer in the model instead.\n",
      "  super().__init__(**kwargs)\n"
     ]
    },
    {
     "name": "stdout",
     "output_type": "stream",
     "text": [
      "\u001b[1m192/192\u001b[0m \u001b[32m━━━━━━━━━━━━━━━━━━━━\u001b[0m\u001b[37m\u001b[0m \u001b[1m4s\u001b[0m 21ms/step\n",
      "\u001b[1m411/411\u001b[0m \u001b[32m━━━━━━━━━━━━━━━━━━━━\u001b[0m\u001b[37m\u001b[0m \u001b[1m8s\u001b[0m 20ms/step\n",
      "Saved submission to submissions/exp_15_submission.csv\n",
      "\n",
      "Running Experiment 16\n"
     ]
    },
    {
     "name": "stderr",
     "output_type": "stream",
     "text": [
      "C:\\Users\\MaximeGuy\\AppData\\Roaming\\Python\\Python312\\site-packages\\keras\\src\\layers\\rnn\\rnn.py:200: UserWarning: Do not pass an `input_shape`/`input_dim` argument to a layer. When using Sequential models, prefer using an `Input(shape)` object as the first layer in the model instead.\n",
      "  super().__init__(**kwargs)\n"
     ]
    },
    {
     "name": "stdout",
     "output_type": "stream",
     "text": [
      "\u001b[1m192/192\u001b[0m \u001b[32m━━━━━━━━━━━━━━━━━━━━\u001b[0m\u001b[37m\u001b[0m \u001b[1m2s\u001b[0m 8ms/step\n",
      "\u001b[1m411/411\u001b[0m \u001b[32m━━━━━━━━━━━━━━━━━━━━\u001b[0m\u001b[37m\u001b[0m \u001b[1m3s\u001b[0m 6ms/step\n",
      "Saved submission to submissions/exp_16_submission.csv\n",
      "\n",
      "Running Experiment 17\n"
     ]
    },
    {
     "name": "stderr",
     "output_type": "stream",
     "text": [
      "C:\\Users\\MaximeGuy\\AppData\\Roaming\\Python\\Python312\\site-packages\\keras\\src\\layers\\rnn\\rnn.py:200: UserWarning: Do not pass an `input_shape`/`input_dim` argument to a layer. When using Sequential models, prefer using an `Input(shape)` object as the first layer in the model instead.\n",
      "  super().__init__(**kwargs)\n"
     ]
    },
    {
     "name": "stdout",
     "output_type": "stream",
     "text": [
      "\u001b[1m192/192\u001b[0m \u001b[32m━━━━━━━━━━━━━━━━━━━━\u001b[0m\u001b[37m\u001b[0m \u001b[1m2s\u001b[0m 11ms/step\n",
      "\u001b[1m411/411\u001b[0m \u001b[32m━━━━━━━━━━━━━━━━━━━━\u001b[0m\u001b[37m\u001b[0m \u001b[1m4s\u001b[0m 10ms/step\n",
      "Saved submission to submissions/exp_17_submission.csv\n",
      "\n",
      "Running Experiment 18\n"
     ]
    },
    {
     "name": "stderr",
     "output_type": "stream",
     "text": [
      "C:\\Users\\MaximeGuy\\AppData\\Roaming\\Python\\Python312\\site-packages\\keras\\src\\layers\\rnn\\rnn.py:200: UserWarning: Do not pass an `input_shape`/`input_dim` argument to a layer. When using Sequential models, prefer using an `Input(shape)` object as the first layer in the model instead.\n",
      "  super().__init__(**kwargs)\n"
     ]
    },
    {
     "name": "stdout",
     "output_type": "stream",
     "text": [
      "\u001b[1m192/192\u001b[0m \u001b[32m━━━━━━━━━━━━━━━━━━━━\u001b[0m\u001b[37m\u001b[0m \u001b[1m4s\u001b[0m 22ms/step\n",
      "\u001b[1m411/411\u001b[0m \u001b[32m━━━━━━━━━━━━━━━━━━━━\u001b[0m\u001b[37m\u001b[0m \u001b[1m9s\u001b[0m 21ms/step\n",
      "Saved submission to submissions/exp_18_submission.csv\n",
      "\n",
      "Running Experiment 19\n"
     ]
    },
    {
     "name": "stderr",
     "output_type": "stream",
     "text": [
      "C:\\Users\\MaximeGuy\\AppData\\Roaming\\Python\\Python312\\site-packages\\keras\\src\\layers\\rnn\\rnn.py:200: UserWarning: Do not pass an `input_shape`/`input_dim` argument to a layer. When using Sequential models, prefer using an `Input(shape)` object as the first layer in the model instead.\n",
      "  super().__init__(**kwargs)\n"
     ]
    },
    {
     "name": "stdout",
     "output_type": "stream",
     "text": [
      "\u001b[1m192/192\u001b[0m \u001b[32m━━━━━━━━━━━━━━━━━━━━\u001b[0m\u001b[37m\u001b[0m \u001b[1m1s\u001b[0m 4ms/step\n",
      "\u001b[1m411/411\u001b[0m \u001b[32m━━━━━━━━━━━━━━━━━━━━\u001b[0m\u001b[37m\u001b[0m \u001b[1m2s\u001b[0m 4ms/step\n",
      "Saved submission to submissions/exp_19_submission.csv\n",
      "\n",
      "Running Experiment 20\n"
     ]
    },
    {
     "name": "stderr",
     "output_type": "stream",
     "text": [
      "C:\\Users\\MaximeGuy\\AppData\\Roaming\\Python\\Python312\\site-packages\\keras\\src\\layers\\rnn\\rnn.py:200: UserWarning: Do not pass an `input_shape`/`input_dim` argument to a layer. When using Sequential models, prefer using an `Input(shape)` object as the first layer in the model instead.\n",
      "  super().__init__(**kwargs)\n"
     ]
    },
    {
     "name": "stdout",
     "output_type": "stream",
     "text": [
      "\u001b[1m192/192\u001b[0m \u001b[32m━━━━━━━━━━━━━━━━━━━━\u001b[0m\u001b[37m\u001b[0m \u001b[1m3s\u001b[0m 14ms/step\n",
      "\u001b[1m411/411\u001b[0m \u001b[32m━━━━━━━━━━━━━━━━━━━━\u001b[0m\u001b[37m\u001b[0m \u001b[1m5s\u001b[0m 13ms/step\n",
      "Saved submission to submissions/exp_20_submission.csv\n"
     ]
    }
   ],
   "source": [
    "# Experiment tracking\n",
    "results = []\n",
    "best_submissions = []\n",
    "\n",
    "for exp in experiments:\n",
    "    try:\n",
    "        print(f\"\\nRunning Experiment {exp['exp_num']}\")\n",
    "        \n",
    "        # Create sequences\n",
    "        X_seq, y_seq = create_sequences(X_train, y_train, exp['seq_len'])\n",
    "        \n",
    "        # Train/validation split\n",
    "        split = int(0.8 * len(X_seq))\n",
    "        X_train_seq, X_val = X_seq[:split], X_seq[split:]\n",
    "        y_train_seq, y_val = y_seq[:split], y_seq[split:]\n",
    "        \n",
    "        # Build model\n",
    "        model = Sequential([\n",
    "            LSTM(exp['units'], input_shape=(X_train_seq.shape[1], X_train_seq.shape[2])),\n",
    "            Dropout(exp['dropout']),\n",
    "            Dense(1)\n",
    "        ])\n",
    "        \n",
    "        model.compile(\n",
    "            optimizer=Adam(learning_rate=exp['lr']),\n",
    "            loss='mse',\n",
    "            metrics=[tf.keras.metrics.RootMeanSquaredError()]\n",
    "        )\n",
    "        \n",
    "        # Train model\n",
    "        history = model.fit(\n",
    "            X_train_seq, y_train_seq,\n",
    "            validation_data=(X_val, y_val),\n",
    "            epochs=exp['epochs'],\n",
    "            batch_size=exp['batch_size'],\n",
    "            verbose=0\n",
    "        )\n",
    "        \n",
    "        # Evaluate\n",
    "        val_pred = model.predict(X_val)\n",
    "        rmse = np.sqrt(mean_squared_error(y_val, val_pred))\n",
    "        \n",
    "        # Store results\n",
    "        results.append({\n",
    "            'Experiment': exp['exp_num'],\n",
    "            'Parameters': f\"units={exp['units']}, lr={exp['lr']}, seq={exp['seq_len']}\",\n",
    "            'Architecture': f\"LSTM({exp['units']})\",\n",
    "            'RMSE': rmse,\n",
    "            'Epochs': exp['epochs']\n",
    "        })\n",
    "        \n",
    "        # Generate test predictions\n",
    "        X_test_seq, _ = create_sequences(np.vstack([X_train[-exp['seq_len']:], X_test]), \n",
    "                                       np.zeros(len(X_test)+exp['seq_len']), \n",
    "                                       exp['seq_len'])\n",
    "        test_pred = model.predict(X_test_seq)[-len(test):]\n",
    "        \n",
    "        # Create submission file\n",
    "        submission = pd.DataFrame({\n",
    "            'row ID': pd.to_datetime(test.index).strftime('%Y-%m-%d %H:%M:%S').str.replace(r'(?<=\\s)0(\\d):', r'\\1:', regex=True),  # Remove leading zeros for hours\n",
    "            'pm2.5': test_pred.flatten()\n",
    "        }).sort_values('row ID')\n",
    "        \n",
    "        # Save submission\n",
    "        submission_path = f'submissions/exp_{exp[\"exp_num\"]}_submission.csv'\n",
    "        submission.to_csv(submission_path, index=False)\n",
    "        print(f\"Saved submission to {submission_path}\")\n",
    "        \n",
    "        # Track best submissions\n",
    "        best_submissions.append((rmse, exp['exp_num'], submission_path))\n",
    "        best_submissions.sort(key=lambda x: x[0])\n",
    "        if len(best_submissions) > 2:\n",
    "            best_submissions.pop()\n",
    "            \n",
    "    except Exception as e:\n",
    "        print(f\"Experiment {exp['exp_num']} failed: {str(e)}\")\n",
    "        continue"
   ]
  },
  {
   "cell_type": "markdown",
   "metadata": {},
   "source": [
    "# Evaluate and Save Model Submissions\n",
    "This section evaluates the best-performing models and saves the submissions to CSV files. It also generates a report of the best submissions."
   ]
  },
  {
   "cell_type": "code",
   "execution_count": 17,
   "metadata": {},
   "outputs": [
    {
     "name": "stdout",
     "output_type": "stream",
     "text": [
      "\n",
      "Top 2 Submissions:\n",
      "Best 1: Experiment 17 (RMSE: 72.10)\n",
      "Best 2: Experiment 8 (RMSE: 75.86)\n",
      "\n",
      "Experiment Results:\n",
      "|   Experiment | Parameters                  | Architecture   |    RMSE |\n",
      "|-------------:|:----------------------------|:---------------|--------:|\n",
      "|            1 | units=32, lr=0.001, seq=24  | LSTM(32)       | 82.8751 |\n",
      "|            2 | units=64, lr=0.001, seq=24  | LSTM(64)       | 81.5219 |\n",
      "|            3 | units=128, lr=0.001, seq=24 | LSTM(128)      | 82.1037 |\n",
      "|            4 | units=32, lr=0.001, seq=24  | LSTM(32)       | 81.6655 |\n",
      "|            5 | units=64, lr=0.001, seq=24  | LSTM(64)       | 82.2133 |\n",
      "|            6 | units=128, lr=0.001, seq=24 | LSTM(128)      | 82.2703 |\n",
      "|            7 | units=32, lr=0.01, seq=48   | LSTM(32)       | 78.3316 |\n",
      "|            8 | units=64, lr=0.01, seq=48   | LSTM(64)       | 75.8561 |\n",
      "|            9 | units=128, lr=0.01, seq=48  | LSTM(128)      | 93.5517 |\n",
      "|           10 | units=32, lr=0.01, seq=48   | LSTM(32)       | 81.25   |\n",
      "|           11 | units=64, lr=0.01, seq=48   | LSTM(64)       | 78.2277 |\n",
      "|           12 | units=128, lr=0.01, seq=48  | LSTM(128)      | 97.7244 |\n",
      "|           13 | units=32, lr=0.001, seq=72  | LSTM(32)       | 85.9146 |\n",
      "|           14 | units=64, lr=0.001, seq=72  | LSTM(64)       | 76.3389 |\n",
      "|           15 | units=128, lr=0.001, seq=72 | LSTM(128)      | 80.3242 |\n",
      "|           16 | units=32, lr=0.01, seq=72   | LSTM(32)       | 76.8775 |\n",
      "|           17 | units=64, lr=0.01, seq=72   | LSTM(64)       | 72.1011 |\n",
      "|           18 | units=128, lr=0.01, seq=72  | LSTM(128)      | 76.5757 |\n",
      "|           19 | units=64, lr=0.005, seq=24  | LSTM(64)       | 85.5467 |\n",
      "|           20 | units=128, lr=0.005, seq=48 | LSTM(128)      | 79.2736 |\n"
     ]
    }
   ],
   "source": [
    "# Save best submissions\n",
    "print(\"\\nTop 2 Submissions:\")\n",
    "for i, (rmse, exp_id, path) in enumerate(best_submissions[:2], 1):\n",
    "    best_sub = pd.read_csv(path)\n",
    "    best_path = f'submissions/best_submission_{i}.csv'\n",
    "    best_sub.to_csv(best_path, index=False)\n",
    "    print(f\"Best {i}: Experiment {exp_id} (RMSE: {rmse:.2f})\")\n",
    "\n",
    "# Generate experiment report\n",
    "results_df = pd.DataFrame(results)\n",
    "print(\"\\nExperiment Results:\")\n",
    "print(results_df[['Experiment', 'Parameters', 'Architecture', 'RMSE']].to_markdown(index=False))"
   ]
  },
  {
   "cell_type": "markdown",
   "metadata": {},
   "source": [
    "# Generate Training Loss Plots for Best Models\n",
    "This section visualizes the training loss for the top-performing models. It plots the training loss over epochs and saves the resulting figures for documentation."
   ]
  },
  {
   "cell_type": "code",
   "execution_count": 18,
   "metadata": {},
   "outputs": [
    {
     "name": "stdout",
     "output_type": "stream",
     "text": [
      "\n",
      "Generating Training Loss Plots for Best Models...\n",
      "\u001b[1m766/766\u001b[0m \u001b[32m━━━━━━━━━━━━━━━━━━━━\u001b[0m\u001b[37m\u001b[0m \u001b[1m10s\u001b[0m 14ms/step\n",
      "Train Loss: 1742.2221719407548\n"
     ]
    },
    {
     "data": {
      "image/png": "[encoded data removed]",
      "text/plain": [
       "<Figure size 1000x600 with 1 Axes>"
      ]
     },
     "metadata": {},
     "output_type": "display_data"
    },
    {
     "name": "stdout",
     "output_type": "stream",
     "text": [
      "Experiment 17:\n",
      "    - Final Training Loss: 1742.22\n",
      "    - Validation RMSE: 72.10\n",
      "    - Plot saved to submissions/best_model_1_loss_plot.png\n",
      "\n",
      "\u001b[1m766/766\u001b[0m \u001b[32m━━━━━━━━━━━━━━━━━━━━\u001b[0m\u001b[37m\u001b[0m \u001b[1m10s\u001b[0m 13ms/step\n",
      "Train Loss: 1742.2221719407548\n"
     ]
    },
    {
     "data": {
      "image/png": "[encoded data removed]",
      "text/plain": [
       "<Figure size 1000x600 with 1 Axes>"
      ]
     },
     "metadata": {},
     "output_type": "display_data"
    },
    {
     "name": "stdout",
     "output_type": "stream",
     "text": [
      "Experiment 8:\n",
      "    - Final Training Loss: 1742.22\n",
      "    - Validation RMSE: 75.86\n",
      "    - Plot saved to submissions/best_model_2_loss_plot.png\n",
      "\n"
     ]
    }
   ],
   "source": [
    "# Plot training loss for top 2 models\n",
    "print(\"\\nGenerating Training Loss Plots for Best Models...\")\n",
    "\n",
    "for i, (rmse, exp_id, path) in enumerate(best_submissions[:2], 1):\n",
    "    # Calculate final training loss\n",
    "    train_predictions = model.predict(X_train_seq)\n",
    "    train_loss = np.mean((y_train_seq - train_predictions.flatten())**2)\n",
    "\n",
    "    # Print train_loss here\n",
    "    print(f\"Train Loss: {train_loss}\")\n",
    "\n",
    "    # Create plot\n",
    "    plt.figure(figsize=(10, 6))\n",
    "    plt.plot(history.history['loss'], label='Training Loss')\n",
    "    plt.axhline(y=train_loss, color='r', linestyle='--', label='Final Training Loss')\n",
    "    plt.title(f'Best Model #{i} (Experiment {exp_id})\\nTraining Loss [RMSE: {rmse:.2f}]')\n",
    "    plt.xlabel('Epochs')\n",
    "    plt.ylabel('Loss (MSE)')\n",
    "    plt.legend()\n",
    "    plt.grid(True)\n",
    "    \n",
    "    # Save plot\n",
    "    plot_path = f'submissions/best_model_{i}_loss_plot.png'\n",
    "    plt.savefig(plot_path)\n",
    "    plt.show()\n",
    "    \n",
    "    print(f'''Experiment {exp_id}:\n",
    "    - Final Training Loss: {train_loss:.2f}\n",
    "    - Validation RMSE: {rmse:.2f}\n",
    "    - Plot saved to {plot_path}\\n''')"
   ]
  },
  {
   "cell_type": "code",
   "execution_count": 19,
   "metadata": {},
   "outputs": [],
   "source": [
    "# New experiments with multiple LSTM layers\n",
    "new_experiments = [\n",
    "    {\n",
    "        'exp_num': 21,\n",
    "        'architecture': [\n",
    "            {'type': 'LSTM', 'units': 64, 'return_sequences': True},\n",
    "            {'type': 'LSTM', 'units': 32},\n",
    "            {'type': 'Dropout', 'rate': 0.3},\n",
    "            {'type': 'Dense', 'units': 1}\n",
    "        ],\n",
    "        'batch_size': 64,\n",
    "        'lr': 0.001,\n",
    "        'epochs': 40,\n",
    "        'seq_len': 48\n",
    "    },\n",
    "    {\n",
    "        'exp_num': 22,\n",
    "        'architecture': [\n",
    "            {'type': 'LSTM', 'units': 128, 'return_sequences': True},\n",
    "            {'type': 'Dropout', 'rate': 0.3},\n",
    "            {'type': 'LSTM', 'units': 64},\n",
    "            {'type': 'Dropout', 'rate': 0.2},\n",
    "            {'type': 'Dense', 'units': 1}\n",
    "        ],\n",
    "        'batch_size': 64,\n",
    "        'lr': 0.001,\n",
    "        'epochs': 40,\n",
    "        'seq_len': 48\n",
    "    },\n",
    "    {\n",
    "        'exp_num': 23,\n",
    "        'architecture': [\n",
    "            {'type': 'LSTM', 'units': 64, 'return_sequences': True},\n",
    "            {'type': 'LSTM', 'units': 64, 'return_sequences': True},\n",
    "            {'type': 'LSTM', 'units': 32},\n",
    "            {'type': 'Dropout', 'rate': 0.3},\n",
    "            {'type': 'Dense', 'units': 1}\n",
    "        ],\n",
    "        'batch_size': 32,\n",
    "        'lr': 0.001,\n",
    "        'epochs': 40,\n",
    "        'seq_len': 72\n",
    "    },\n",
    "    {\n",
    "        'exp_num': 24,\n",
    "        'architecture': [\n",
    "            {'type': 'LSTM', 'units': 128, 'return_sequences': True},\n",
    "            {'type': 'Dropout', 'rate': 0.3},\n",
    "            {'type': 'LSTM', 'units': 64, 'return_sequences': True},\n",
    "            {'type': 'Dropout', 'rate': 0.2},\n",
    "            {'type': 'LSTM', 'units': 32},\n",
    "            {'type': 'Dense', 'units': 1}\n",
    "        ],\n",
    "        'batch_size': 64,\n",
    "        'lr': 0.001,\n",
    "        'epochs': 50,\n",
    "        'seq_len': 48\n",
    "    },\n",
    "    {\n",
    "        'exp_num': 25,\n",
    "        'architecture': [\n",
    "            {'type': 'LSTM', 'units': 256, 'return_sequences': True},\n",
    "            {'type': 'Dropout', 'rate': 0.4},\n",
    "            {'type': 'LSTM', 'units': 128, 'return_sequences': True},\n",
    "            {'type': 'Dropout', 'rate': 0.3},\n",
    "            {'type': 'LSTM', 'units': 64},\n",
    "            {'type': 'Dropout', 'rate': 0.2},\n",
    "            {'type': 'Dense', 'units': 1}\n",
    "        ],\n",
    "        'batch_size': 32,\n",
    "        'lr': 0.001,\n",
    "        'epochs': 50,\n",
    "        'seq_len': 72\n",
    "    }\n",
    "]\n"
   ]
  },
  {
   "cell_type": "code",
   "execution_count": 21,
   "metadata": {},
   "outputs": [
    {
     "name": "stdout",
     "output_type": "stream",
     "text": [
      "\n",
      "Running Experiment 21\n",
      "\u001b[1m192/192\u001b[0m \u001b[32m━━━━━━━━━━━━━━━━━━━━\u001b[0m\u001b[37m\u001b[0m \u001b[1m3s\u001b[0m 13ms/step\n",
      "\u001b[1m411/411\u001b[0m \u001b[32m━━━━━━━━━━━━━━━━━━━━\u001b[0m\u001b[37m\u001b[0m \u001b[1m4s\u001b[0m 11ms/step\n",
      "Saved submission to submissions/exp_21_submission.csv\n",
      "\n",
      "Running Experiment 22\n"
     ]
    },
    {
     "name": "stderr",
     "output_type": "stream",
     "text": [
      "C:\\Users\\MaximeGuy\\AppData\\Roaming\\Python\\Python312\\site-packages\\keras\\src\\layers\\rnn\\rnn.py:200: UserWarning: Do not pass an `input_shape`/`input_dim` argument to a layer. When using Sequential models, prefer using an `Input(shape)` object as the first layer in the model instead.\n",
      "  super().__init__(**kwargs)\n"
     ]
    },
    {
     "name": "stdout",
     "output_type": "stream",
     "text": [
      "\u001b[1m192/192\u001b[0m \u001b[32m━━━━━━━━━━━━━━━━━━━━\u001b[0m\u001b[37m\u001b[0m \u001b[1m4s\u001b[0m 21ms/step\n",
      "\u001b[1m411/411\u001b[0m \u001b[32m━━━━━━━━━━━━━━━━━━━━\u001b[0m\u001b[37m\u001b[0m \u001b[1m8s\u001b[0m 19ms/step\n",
      "Saved submission to submissions/exp_22_submission.csv\n",
      "\n",
      "Running Experiment 23\n"
     ]
    },
    {
     "name": "stderr",
     "output_type": "stream",
     "text": [
      "C:\\Users\\MaximeGuy\\AppData\\Roaming\\Python\\Python312\\site-packages\\keras\\src\\layers\\rnn\\rnn.py:200: UserWarning: Do not pass an `input_shape`/`input_dim` argument to a layer. When using Sequential models, prefer using an `Input(shape)` object as the first layer in the model instead.\n",
      "  super().__init__(**kwargs)\n"
     ]
    },
    {
     "name": "stdout",
     "output_type": "stream",
     "text": [
      "\u001b[1m192/192\u001b[0m \u001b[32m━━━━━━━━━━━━━━━━━━━━\u001b[0m\u001b[37m\u001b[0m \u001b[1m6s\u001b[0m 27ms/step\n",
      "\u001b[1m411/411\u001b[0m \u001b[32m━━━━━━━━━━━━━━━━━━━━\u001b[0m\u001b[37m\u001b[0m \u001b[1m10s\u001b[0m 25ms/step\n",
      "Saved submission to submissions/exp_23_submission.csv\n",
      "\n",
      "Running Experiment 24\n"
     ]
    },
    {
     "name": "stderr",
     "output_type": "stream",
     "text": [
      "C:\\Users\\MaximeGuy\\AppData\\Roaming\\Python\\Python312\\site-packages\\keras\\src\\layers\\rnn\\rnn.py:200: UserWarning: Do not pass an `input_shape`/`input_dim` argument to a layer. When using Sequential models, prefer using an `Input(shape)` object as the first layer in the model instead.\n",
      "  super().__init__(**kwargs)\n"
     ]
    },
    {
     "name": "stdout",
     "output_type": "stream",
     "text": [
      "\u001b[1m192/192\u001b[0m \u001b[32m━━━━━━━━━━━━━━━━━━━━\u001b[0m\u001b[37m\u001b[0m \u001b[1m6s\u001b[0m 30ms/step\n",
      "\u001b[1m411/411\u001b[0m \u001b[32m━━━━━━━━━━━━━━━━━━━━\u001b[0m\u001b[37m\u001b[0m \u001b[1m10s\u001b[0m 24ms/step\n",
      "Saved submission to submissions/exp_24_submission.csv\n",
      "\n",
      "Running Experiment 25\n"
     ]
    },
    {
     "name": "stderr",
     "output_type": "stream",
     "text": [
      "C:\\Users\\MaximeGuy\\AppData\\Roaming\\Python\\Python312\\site-packages\\keras\\src\\layers\\rnn\\rnn.py:200: UserWarning: Do not pass an `input_shape`/`input_dim` argument to a layer. When using Sequential models, prefer using an `Input(shape)` object as the first layer in the model instead.\n",
      "  super().__init__(**kwargs)\n"
     ]
    },
    {
     "name": "stdout",
     "output_type": "stream",
     "text": [
      "\u001b[1m192/192\u001b[0m \u001b[32m━━━━━━━━━━━━━━━━━━━━\u001b[0m\u001b[37m\u001b[0m \u001b[1m13s\u001b[0m 66ms/step\n",
      "\u001b[1m411/411\u001b[0m \u001b[32m━━━━━━━━━━━━━━━━━━━━\u001b[0m\u001b[37m\u001b[0m \u001b[1m26s\u001b[0m 62ms/step\n",
      "Saved submission to submissions/exp_25_submission.csv\n",
      "\n",
      "Results for New Experiments (21-25):\n",
      "|   Experiment | Parameters                 | Architecture   |    RMSE |\n",
      "|-------------:|:---------------------------|:---------------|--------:|\n",
      "|           21 | layers=2, lr=0.001, seq=48 | Stacked LSTM   | 82.2632 |\n",
      "|           22 | layers=2, lr=0.001, seq=48 | Stacked LSTM   | 85.7895 |\n",
      "|           23 | layers=3, lr=0.001, seq=72 | Stacked LSTM   | 75.2836 |\n",
      "|           24 | layers=3, lr=0.001, seq=48 | Stacked LSTM   | 79.6976 |\n",
      "|           25 | layers=3, lr=0.001, seq=72 | Stacked LSTM   | 80.1901 |\n"
     ]
    }
   ],
   "source": [
    "# Modified experiment tracking code for the new architecture\n",
    "for exp in new_experiments:\n",
    "    try:\n",
    "        print(f\"\\nRunning Experiment {exp['exp_num']}\")\n",
    "        \n",
    "        # Create sequences\n",
    "        X_seq, y_seq = create_sequences(X_train, y_train, exp['seq_len'])\n",
    "        \n",
    "        # Train/validation split\n",
    "        split = int(0.8 * len(X_seq))\n",
    "        X_train_seq, X_val = X_seq[:split], X_seq[split:]\n",
    "        y_train_seq, y_val = y_seq[:split], y_seq[split:]\n",
    "        \n",
    "        # Build model with multiple layers\n",
    "        model = Sequential()\n",
    "        \n",
    "        # Add layers according to architecture\n",
    "        for i, layer in enumerate(exp['architecture']):\n",
    "            if layer['type'] == 'LSTM':\n",
    "                if i == 0:  # First layer needs input shape\n",
    "                    model.add(LSTM(\n",
    "                        units=layer['units'],\n",
    "                        return_sequences=layer.get('return_sequences', False),\n",
    "                        input_shape=(X_train_seq.shape[1], X_train_seq.shape[2])\n",
    "                    ))\n",
    "                else:\n",
    "                    model.add(LSTM(\n",
    "                        units=layer['units'],\n",
    "                        return_sequences=layer.get('return_sequences', False)\n",
    "                    ))\n",
    "            elif layer['type'] == 'Dropout':\n",
    "                model.add(Dropout(layer['rate']))\n",
    "            elif layer['type'] == 'Dense':\n",
    "                model.add(Dense(layer['units']))\n",
    "        \n",
    "        model.compile(\n",
    "            optimizer=Adam(learning_rate=exp['lr']),\n",
    "            loss='mse',\n",
    "            metrics=[tf.keras.metrics.RootMeanSquaredError()]\n",
    "        )\n",
    "        \n",
    "        # Train model\n",
    "        history = model.fit(\n",
    "            X_train_seq, y_train_seq,\n",
    "            validation_data=(X_val, y_val),\n",
    "            epochs=exp['epochs'],\n",
    "            batch_size=exp['batch_size'],\n",
    "            verbose=0\n",
    "        )\n",
    "        \n",
    "        # Evaluate\n",
    "        val_pred = model.predict(X_val)\n",
    "        rmse = np.sqrt(mean_squared_error(y_val, val_pred))\n",
    "        \n",
    "        # Store results\n",
    "        results.append({\n",
    "            'Experiment': exp['exp_num'],\n",
    "            'Parameters': f\"layers={len([l for l in exp['architecture'] if l['type']=='LSTM'])}, lr={exp['lr']}, seq={exp['seq_len']}\",\n",
    "            'Architecture': f\"Stacked LSTM\",\n",
    "            'RMSE': rmse,\n",
    "            'Epochs': exp['epochs']\n",
    "        })\n",
    "        \n",
    "        # Generate test predictions\n",
    "        X_test_seq, _ = create_sequences(\n",
    "            np.vstack([X_train[-exp['seq_len']:], X_test]), \n",
    "            np.zeros(len(X_test)+exp['seq_len']), \n",
    "            exp['seq_len']\n",
    "        )\n",
    "        test_pred = model.predict(X_test_seq)[-len(test):]\n",
    "        \n",
    "        # Create submission file\n",
    "        submission = pd.DataFrame({\n",
    "            'row ID': pd.to_datetime(test.index).strftime('%Y-%m-%d %H:%M:%S').str.replace(r'(?<=\\s)0(\\d):', r'\\1:', regex=True),\n",
    "            'pm2.5': test_pred.flatten()\n",
    "        }).sort_values('row ID')\n",
    "        \n",
    "        # Save submission\n",
    "        submission_path = f'submissions/exp_{exp[\"exp_num\"]}_submission.csv'\n",
    "        submission.to_csv(submission_path, index=False)\n",
    "        print(f\"Saved submission to {submission_path}\")\n",
    "        \n",
    "        # Track best submissions\n",
    "        best_submissions.append((rmse, exp['exp_num'], submission_path))\n",
    "        best_submissions.sort(key=lambda x: x[0])\n",
    "        if len(best_submissions) > 3:  # Keep top 3 instead of top 2\n",
    "            best_submissions.pop()\n",
    "            \n",
    "    except Exception as e:\n",
    "        print(f\"Experiment {exp['exp_num']} failed: {str(e)}\")\n",
    "        continue\n",
    "\n",
    "# Print results for new experiments\n",
    "print(\"\\nResults for New Experiments (21-25):\")\n",
    "new_results_df = pd.DataFrame([r for r in results if r['Experiment'] >= 21])\n",
    "print(new_results_df[['Experiment', 'Parameters', 'Architecture', 'RMSE']].to_markdown(index=False))\n"
   ]
  },
  {
   "cell_type": "code",
   "execution_count": 22,
   "metadata": {},
   "outputs": [
    {
     "name": "stdout",
     "output_type": "stream",
     "text": [
      "\n",
      "Top 3 Submissions:\n",
      "Best 1: Experiment 17 (RMSE: 72.10)\n",
      "Best 2: Experiment 23 (RMSE: 75.28)\n",
      "Best 3: Experiment 8 (RMSE: 75.86)\n"
     ]
    }
   ],
   "source": [
    "# Print top 3 best submissions (including the new ones)\n",
    "print(\"\\nTop 3 Submissions:\")\n",
    "for i, (rmse, exp_id, path) in enumerate(best_submissions, 1):\n",
    "    if i <= 3:  # Save only the best one as best_submission_3.csv\n",
    "        best_sub = pd.read_csv(path)\n",
    "        if exp_id >= 21 and i == 1:  # If new experiment is the best\n",
    "            best_path = f'submissions/best_submission_3.csv'\n",
    "            best_sub.to_csv(best_path, index=False)\n",
    "            print(f\"Best {i}: Experiment {exp_id} (RMSE: {rmse:.2f}) - Saved as best_submission_3.csv\")\n",
    "        else:\n",
    "            print(f\"Best {i}: Experiment {exp_id} (RMSE: {rmse:.2f})\")"
   ]
  }
 ],
 "metadata": {
  "kernelspec": {
   "display_name": "runpython_3.12",
   "language": "python",
   "name": "python3"
  },
  "language_info": {
   "codemirror_mode": {
    "name": "ipython",
    "version": 3
   },
   "file_extension": ".py",
   "mimetype": "text/x-python",
   "name": "python",
   "nbconvert_exporter": "python",
   "pygments_lexer": "ipython3",
   "version": "3.12.7"
  }
 },
 "nbformat": 4,
 "nbformat_minor": 2
}
